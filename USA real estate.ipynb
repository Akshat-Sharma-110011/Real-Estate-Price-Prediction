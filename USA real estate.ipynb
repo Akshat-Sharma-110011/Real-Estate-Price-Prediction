{
 "cells": [
  {
   "cell_type": "code",
   "execution_count": 1,
   "id": "3c437602-3ce9-4e66-a8a3-ac2d357ca89e",
   "metadata": {},
   "outputs": [],
   "source": [
    "import numpy as np\n",
    "import pandas as pd"
   ]
  },
  {
   "cell_type": "code",
   "execution_count": 2,
   "id": "9c3c50f9-12ea-42ee-a9da-52b7035b6307",
   "metadata": {},
   "outputs": [
    {
     "data": {
      "text/html": [
       "<div>\n",
       "<style scoped>\n",
       "    .dataframe tbody tr th:only-of-type {\n",
       "        vertical-align: middle;\n",
       "    }\n",
       "\n",
       "    .dataframe tbody tr th {\n",
       "        vertical-align: top;\n",
       "    }\n",
       "\n",
       "    .dataframe thead th {\n",
       "        text-align: right;\n",
       "    }\n",
       "</style>\n",
       "<table border=\"1\" class=\"dataframe\">\n",
       "  <thead>\n",
       "    <tr style=\"text-align: right;\">\n",
       "      <th></th>\n",
       "      <th>brokered_by</th>\n",
       "      <th>status</th>\n",
       "      <th>price</th>\n",
       "      <th>bed</th>\n",
       "      <th>bath</th>\n",
       "      <th>acre_lot</th>\n",
       "      <th>street</th>\n",
       "      <th>city</th>\n",
       "      <th>state</th>\n",
       "      <th>zip_code</th>\n",
       "      <th>house_size</th>\n",
       "      <th>prev_sold_date</th>\n",
       "    </tr>\n",
       "  </thead>\n",
       "  <tbody>\n",
       "    <tr>\n",
       "      <th>0</th>\n",
       "      <td>103378.0</td>\n",
       "      <td>for_sale</td>\n",
       "      <td>105000.0</td>\n",
       "      <td>3.0</td>\n",
       "      <td>2.0</td>\n",
       "      <td>0.12</td>\n",
       "      <td>1962661.0</td>\n",
       "      <td>Adjuntas</td>\n",
       "      <td>Puerto Rico</td>\n",
       "      <td>601.0</td>\n",
       "      <td>920.0</td>\n",
       "      <td>NaN</td>\n",
       "    </tr>\n",
       "    <tr>\n",
       "      <th>1</th>\n",
       "      <td>52707.0</td>\n",
       "      <td>for_sale</td>\n",
       "      <td>80000.0</td>\n",
       "      <td>4.0</td>\n",
       "      <td>2.0</td>\n",
       "      <td>0.08</td>\n",
       "      <td>1902874.0</td>\n",
       "      <td>Adjuntas</td>\n",
       "      <td>Puerto Rico</td>\n",
       "      <td>601.0</td>\n",
       "      <td>1527.0</td>\n",
       "      <td>NaN</td>\n",
       "    </tr>\n",
       "    <tr>\n",
       "      <th>2</th>\n",
       "      <td>103379.0</td>\n",
       "      <td>for_sale</td>\n",
       "      <td>67000.0</td>\n",
       "      <td>2.0</td>\n",
       "      <td>1.0</td>\n",
       "      <td>0.15</td>\n",
       "      <td>1404990.0</td>\n",
       "      <td>Juana Diaz</td>\n",
       "      <td>Puerto Rico</td>\n",
       "      <td>795.0</td>\n",
       "      <td>748.0</td>\n",
       "      <td>NaN</td>\n",
       "    </tr>\n",
       "    <tr>\n",
       "      <th>3</th>\n",
       "      <td>31239.0</td>\n",
       "      <td>for_sale</td>\n",
       "      <td>145000.0</td>\n",
       "      <td>4.0</td>\n",
       "      <td>2.0</td>\n",
       "      <td>0.10</td>\n",
       "      <td>1947675.0</td>\n",
       "      <td>Ponce</td>\n",
       "      <td>Puerto Rico</td>\n",
       "      <td>731.0</td>\n",
       "      <td>1800.0</td>\n",
       "      <td>NaN</td>\n",
       "    </tr>\n",
       "    <tr>\n",
       "      <th>4</th>\n",
       "      <td>34632.0</td>\n",
       "      <td>for_sale</td>\n",
       "      <td>65000.0</td>\n",
       "      <td>6.0</td>\n",
       "      <td>2.0</td>\n",
       "      <td>0.05</td>\n",
       "      <td>331151.0</td>\n",
       "      <td>Mayaguez</td>\n",
       "      <td>Puerto Rico</td>\n",
       "      <td>680.0</td>\n",
       "      <td>NaN</td>\n",
       "      <td>NaN</td>\n",
       "    </tr>\n",
       "  </tbody>\n",
       "</table>\n",
       "</div>"
      ],
      "text/plain": [
       "   brokered_by    status     price  bed  bath  acre_lot     street  \\\n",
       "0     103378.0  for_sale  105000.0  3.0   2.0      0.12  1962661.0   \n",
       "1      52707.0  for_sale   80000.0  4.0   2.0      0.08  1902874.0   \n",
       "2     103379.0  for_sale   67000.0  2.0   1.0      0.15  1404990.0   \n",
       "3      31239.0  for_sale  145000.0  4.0   2.0      0.10  1947675.0   \n",
       "4      34632.0  for_sale   65000.0  6.0   2.0      0.05   331151.0   \n",
       "\n",
       "         city        state  zip_code  house_size prev_sold_date  \n",
       "0    Adjuntas  Puerto Rico     601.0       920.0            NaN  \n",
       "1    Adjuntas  Puerto Rico     601.0      1527.0            NaN  \n",
       "2  Juana Diaz  Puerto Rico     795.0       748.0            NaN  \n",
       "3       Ponce  Puerto Rico     731.0      1800.0            NaN  \n",
       "4    Mayaguez  Puerto Rico     680.0         NaN            NaN  "
      ]
     },
     "execution_count": 2,
     "metadata": {},
     "output_type": "execute_result"
    }
   ],
   "source": [
    "df = pd.read_csv(r\"D:\\DS Projects\\Real Estate Price Prediction\\realtor_usa.csv\")\n",
    "df.head()"
   ]
  },
  {
   "cell_type": "code",
   "execution_count": 3,
   "id": "9883b123-7ec7-4994-a751-1a837e4ebd7d",
   "metadata": {},
   "outputs": [
    {
     "data": {
      "text/plain": [
       "brokered_by         4533\n",
       "status                 0\n",
       "price               1541\n",
       "bed               481317\n",
       "bath              511771\n",
       "acre_lot          325589\n",
       "street             10866\n",
       "city                1407\n",
       "state                  8\n",
       "zip_code             299\n",
       "house_size        568484\n",
       "prev_sold_date    734297\n",
       "dtype: int64"
      ]
     },
     "execution_count": 3,
     "metadata": {},
     "output_type": "execute_result"
    }
   ],
   "source": [
    "df.isnull().sum()"
   ]
  },
  {
   "cell_type": "code",
   "execution_count": 4,
   "id": "807b6ee0-b92d-4272-b8b7-8caaf71bdc1c",
   "metadata": {},
   "outputs": [
    {
     "data": {
      "text/plain": [
       "(2226382, 12)"
      ]
     },
     "execution_count": 4,
     "metadata": {},
     "output_type": "execute_result"
    }
   ],
   "source": [
    "df.shape"
   ]
  },
  {
   "cell_type": "code",
   "execution_count": 5,
   "id": "1d08d599-488d-471a-b0ce-ae0db9050dc6",
   "metadata": {},
   "outputs": [],
   "source": [
    "df1 = df.copy()"
   ]
  },
  {
   "cell_type": "code",
   "execution_count": 6,
   "id": "f72c3d4a-2446-4448-9cf0-ac0c67fc9eb8",
   "metadata": {},
   "outputs": [],
   "source": [
    "df1.brokered_by = df1.brokered_by.fillna(df1.brokered_by.median())\n",
    "df1.price = df1.price.fillna(df1.price.mean())\n",
    "df1.bed = df1.bed.fillna(3.0)\n",
    "df1.bath = df1.bath.fillna(2.0)\n",
    "df1.acre_lot = df1.acre_lot.fillna(df1.acre_lot.median())\n",
    "df1.street = df1.street.fillna(df1.street.median())\n",
    "df1.city = df1.city.fillna('Houston')\n",
    "df1.state = df1.state.fillna('Florida')\n",
    "df1.zip_code = df1.zip_code.fillna(33993.0)\n",
    "df1.house_size = df1.house_size.fillna(df1.house_size.median())"
   ]
  },
  {
   "cell_type": "code",
   "execution_count": 7,
   "id": "e10d9a39-b0f0-4cd1-99b3-ad394b739711",
   "metadata": {},
   "outputs": [
    {
     "data": {
      "text/plain": [
       "brokered_by            0\n",
       "status                 0\n",
       "price                  0\n",
       "bed                    0\n",
       "bath                   0\n",
       "acre_lot               0\n",
       "street                 0\n",
       "city                   0\n",
       "state                  0\n",
       "zip_code               0\n",
       "house_size             0\n",
       "prev_sold_date    734297\n",
       "dtype: int64"
      ]
     },
     "execution_count": 7,
     "metadata": {},
     "output_type": "execute_result"
    }
   ],
   "source": [
    "df1.isnull().sum()"
   ]
  },
  {
   "cell_type": "code",
   "execution_count": 8,
   "id": "c5dc8b23-022f-4878-b356-f21b1164b256",
   "metadata": {},
   "outputs": [
    {
     "data": {
      "text/plain": [
       "0    Florida\n",
       "Name: state, dtype: object"
      ]
     },
     "execution_count": 8,
     "metadata": {},
     "output_type": "execute_result"
    }
   ],
   "source": [
    "df.state.mode()"
   ]
  },
  {
   "cell_type": "code",
   "execution_count": 9,
   "id": "b1dfe35f-ec6c-4ccd-879e-185a58bcda8e",
   "metadata": {},
   "outputs": [
    {
     "data": {
      "text/plain": [
       "0    33993.0\n",
       "Name: zip_code, dtype: float64"
      ]
     },
     "execution_count": 9,
     "metadata": {},
     "output_type": "execute_result"
    }
   ],
   "source": [
    "df.zip_code.mode()"
   ]
  },
  {
   "cell_type": "code",
   "execution_count": 10,
   "id": "6042f2d6-9621-426e-904a-93ae548b6e71",
   "metadata": {},
   "outputs": [
    {
     "data": {
      "text/plain": [
       "0    Houston\n",
       "Name: city, dtype: object"
      ]
     },
     "execution_count": 10,
     "metadata": {},
     "output_type": "execute_result"
    }
   ],
   "source": [
    "df.city.mode()"
   ]
  },
  {
   "cell_type": "code",
   "execution_count": 11,
   "id": "f4dadd43-8b74-4102-9513-c33f1f311661",
   "metadata": {},
   "outputs": [
    {
     "data": {
      "text/plain": [
       "0    3.0\n",
       "Name: bed, dtype: float64"
      ]
     },
     "execution_count": 11,
     "metadata": {},
     "output_type": "execute_result"
    }
   ],
   "source": [
    "df.bed.mode()"
   ]
  },
  {
   "cell_type": "code",
   "execution_count": 12,
   "id": "da4d3722-91cf-40c5-ac85-15c7bd03a095",
   "metadata": {},
   "outputs": [
    {
     "data": {
      "text/plain": [
       "0    2.0\n",
       "Name: bath, dtype: float64"
      ]
     },
     "execution_count": 12,
     "metadata": {},
     "output_type": "execute_result"
    }
   ],
   "source": [
    "df.bath.mode()"
   ]
  },
  {
   "cell_type": "code",
   "execution_count": 13,
   "id": "bd41c284-be6c-42f5-8a08-4d79c3eede4d",
   "metadata": {},
   "outputs": [
    {
     "data": {
      "text/plain": [
       "array([nan, '2020-02-28', '2019-06-28', ..., '2021-11-07', '2021-12-26',\n",
       "       '2021-12-25'], dtype=object)"
      ]
     },
     "execution_count": 13,
     "metadata": {},
     "output_type": "execute_result"
    }
   ],
   "source": [
    "df.prev_sold_date.unique()"
   ]
  },
  {
   "cell_type": "code",
   "execution_count": 14,
   "id": "2b27b173-1c9e-455a-a22e-fadc161744bf",
   "metadata": {},
   "outputs": [
    {
     "data": {
      "text/plain": [
       "<matplotlib.collections.PathCollection at 0x15527428a10>"
      ]
     },
     "execution_count": 14,
     "metadata": {},
     "output_type": "execute_result"
    },
    {
     "data": {
      "image/png": "[encoded data removed]",
      "text/plain": [
       "<Figure size 640x480 with 1 Axes>"
      ]
     },
     "metadata": {},
     "output_type": "display_data"
    }
   ],
   "source": [
    "import matplotlib.pyplot as plt\n",
    "df1['prev_sold_date'] = pd.to_datetime(df1['prev_sold_date'], errors='coerce')\n",
    "plt.scatter(df1.prev_sold_date, df1.price)"
   ]
  },
  {
   "cell_type": "code",
   "execution_count": 15,
   "id": "6172f691-a1f0-4cd7-a5cd-52938d6cb662",
   "metadata": {},
   "outputs": [
    {
     "data": {
      "text/plain": [
       "count    2.226382e+06\n",
       "mean     5.241955e+05\n",
       "std      2.138153e+06\n",
       "min      0.000000e+00\n",
       "25%      1.650000e+05\n",
       "50%      3.250000e+05\n",
       "75%      5.500000e+05\n",
       "max      2.147484e+09\n",
       "Name: price, dtype: float64"
      ]
     },
     "execution_count": 15,
     "metadata": {},
     "output_type": "execute_result"
    }
   ],
   "source": [
    "df1.price.describe()"
   ]
  },
  {
   "cell_type": "code",
   "execution_count": 16,
   "id": "68b0b841-cec5-4cf1-b643-cb7d4e027ffe",
   "metadata": {},
   "outputs": [],
   "source": [
    "df2 = df1.copy()\n",
    "df2.price = df1[df1.price < 100000000]['price']"
   ]
  },
  {
   "cell_type": "code",
   "execution_count": 17,
   "id": "48f3546b-1de3-4448-9193-da9aa3707f42",
   "metadata": {},
   "outputs": [
    {
     "data": {
      "text/plain": [
       "<matplotlib.collections.PathCollection at 0x15527775a30>"
      ]
     },
     "execution_count": 17,
     "metadata": {},
     "output_type": "execute_result"
    },
    {
     "data": {
      "image/png": "[encoded data removed]",
      "text/plain": [
       "<Figure size 640x480 with 1 Axes>"
      ]
     },
     "metadata": {},
     "output_type": "display_data"
    }
   ],
   "source": [
    "plt.scatter(df2.prev_sold_date, df2.price)"
   ]
  },
  {
   "cell_type": "code",
   "execution_count": 18,
   "id": "aa505ee5-1009-4ed1-9cb4-6ba13853f425",
   "metadata": {},
   "outputs": [
    {
     "data": {
      "text/plain": [
       "array([  3.,   4.,   2.,   6.,   5.,   1.,   9.,   7.,   8.,  12.,  13.,\n",
       "        10.,  11.,  33.,  24.,  28.,  14.,  18.,  20.,  16.,  15.,  19.,\n",
       "        17.,  40.,  21.,  86.,  31.,  27.,  42.,  60.,  22.,  32.,  99.,\n",
       "        49.,  29.,  30.,  23.,  46.,  36.,  68., 123.,  25.,  47.,  35.,\n",
       "        38.,  64.,  48.,  75., 142.,  61.,  70.,  53.,  26.,  34.,  54.,\n",
       "        71., 210.,  66.,  44.,  37.,  62.,  72., 100.,  55.,  74.,  73.,\n",
       "       473.,  52., 110., 136.,  50.,  98., 102.,  69.,  82.,  41.,  76.,\n",
       "        43.,  80.,  67., 190.,  93.,  45.,  96.,  57.,  39.,  56.,  63.,\n",
       "        90., 108., 111., 212.,  88., 222., 444., 148.,  84., 114., 120.])"
      ]
     },
     "execution_count": 18,
     "metadata": {},
     "output_type": "execute_result"
    }
   ],
   "source": [
    "df2.bed.unique()"
   ]
  },
  {
   "cell_type": "code",
   "execution_count": 19,
   "id": "16ff50a4-6751-493b-8928-ba5330f0e01b",
   "metadata": {},
   "outputs": [
    {
     "data": {
      "text/html": [
       "<div>\n",
       "<style scoped>\n",
       "    .dataframe tbody tr th:only-of-type {\n",
       "        vertical-align: middle;\n",
       "    }\n",
       "\n",
       "    .dataframe tbody tr th {\n",
       "        vertical-align: top;\n",
       "    }\n",
       "\n",
       "    .dataframe thead th {\n",
       "        text-align: right;\n",
       "    }\n",
       "</style>\n",
       "<table border=\"1\" class=\"dataframe\">\n",
       "  <thead>\n",
       "    <tr style=\"text-align: right;\">\n",
       "      <th></th>\n",
       "      <th>brokered_by</th>\n",
       "      <th>status</th>\n",
       "      <th>price</th>\n",
       "      <th>bed</th>\n",
       "      <th>bath</th>\n",
       "      <th>acre_lot</th>\n",
       "      <th>street</th>\n",
       "      <th>city</th>\n",
       "      <th>state</th>\n",
       "      <th>zip_code</th>\n",
       "      <th>house_size</th>\n",
       "      <th>prev_sold_date</th>\n",
       "    </tr>\n",
       "  </thead>\n",
       "  <tbody>\n",
       "    <tr>\n",
       "      <th>70245</th>\n",
       "      <td>34089.0</td>\n",
       "      <td>for_sale</td>\n",
       "      <td>NaN</td>\n",
       "      <td>123.0</td>\n",
       "      <td>123.0</td>\n",
       "      <td>0.26</td>\n",
       "      <td>1197898.0</td>\n",
       "      <td>New York City</td>\n",
       "      <td>New York</td>\n",
       "      <td>10471.0</td>\n",
       "      <td>1760.0</td>\n",
       "      <td>2012-06-29</td>\n",
       "    </tr>\n",
       "    <tr>\n",
       "      <th>156556</th>\n",
       "      <td>53224.0</td>\n",
       "      <td>for_sale</td>\n",
       "      <td>2100000.0</td>\n",
       "      <td>142.0</td>\n",
       "      <td>2.0</td>\n",
       "      <td>0.10</td>\n",
       "      <td>1587316.0</td>\n",
       "      <td>Rochester</td>\n",
       "      <td>New York</td>\n",
       "      <td>14609.0</td>\n",
       "      <td>1545.0</td>\n",
       "      <td>NaT</td>\n",
       "    </tr>\n",
       "    <tr>\n",
       "      <th>401858</th>\n",
       "      <td>25403.0</td>\n",
       "      <td>for_sale</td>\n",
       "      <td>575000.0</td>\n",
       "      <td>210.0</td>\n",
       "      <td>2.0</td>\n",
       "      <td>2.11</td>\n",
       "      <td>611259.0</td>\n",
       "      <td>Cleveland</td>\n",
       "      <td>Tennessee</td>\n",
       "      <td>37311.0</td>\n",
       "      <td>6026.0</td>\n",
       "      <td>NaT</td>\n",
       "    </tr>\n",
       "    <tr>\n",
       "      <th>583135</th>\n",
       "      <td>21069.0</td>\n",
       "      <td>for_sale</td>\n",
       "      <td>225000.0</td>\n",
       "      <td>473.0</td>\n",
       "      <td>157.0</td>\n",
       "      <td>0.26</td>\n",
       "      <td>975782.0</td>\n",
       "      <td>Brent</td>\n",
       "      <td>Alabama</td>\n",
       "      <td>35034.0</td>\n",
       "      <td>1760.0</td>\n",
       "      <td>NaT</td>\n",
       "    </tr>\n",
       "    <tr>\n",
       "      <th>637336</th>\n",
       "      <td>25373.0</td>\n",
       "      <td>for_sale</td>\n",
       "      <td>2100000.0</td>\n",
       "      <td>110.0</td>\n",
       "      <td>2.0</td>\n",
       "      <td>2.29</td>\n",
       "      <td>715488.0</td>\n",
       "      <td>Memphis</td>\n",
       "      <td>Tennessee</td>\n",
       "      <td>38108.0</td>\n",
       "      <td>36250.0</td>\n",
       "      <td>NaT</td>\n",
       "    </tr>\n",
       "    <tr>\n",
       "      <th>637798</th>\n",
       "      <td>8190.0</td>\n",
       "      <td>for_sale</td>\n",
       "      <td>5500000.0</td>\n",
       "      <td>136.0</td>\n",
       "      <td>2.0</td>\n",
       "      <td>4.71</td>\n",
       "      <td>999020.0</td>\n",
       "      <td>Memphis</td>\n",
       "      <td>Tennessee</td>\n",
       "      <td>38127.0</td>\n",
       "      <td>1760.0</td>\n",
       "      <td>2017-02-03</td>\n",
       "    </tr>\n",
       "    <tr>\n",
       "      <th>690428</th>\n",
       "      <td>10613.0</td>\n",
       "      <td>for_sale</td>\n",
       "      <td>1499000.0</td>\n",
       "      <td>102.0</td>\n",
       "      <td>99.0</td>\n",
       "      <td>0.50</td>\n",
       "      <td>575960.0</td>\n",
       "      <td>Dayton</td>\n",
       "      <td>Ohio</td>\n",
       "      <td>45405.0</td>\n",
       "      <td>7773.0</td>\n",
       "      <td>2013-09-24</td>\n",
       "    </tr>\n",
       "    <tr>\n",
       "      <th>957227</th>\n",
       "      <td>28717.0</td>\n",
       "      <td>for_sale</td>\n",
       "      <td>189000.0</td>\n",
       "      <td>190.0</td>\n",
       "      <td>163.0</td>\n",
       "      <td>3.57</td>\n",
       "      <td>309021.0</td>\n",
       "      <td>New Orleans</td>\n",
       "      <td>Louisiana</td>\n",
       "      <td>70129.0</td>\n",
       "      <td>110350.0</td>\n",
       "      <td>2017-01-24</td>\n",
       "    </tr>\n",
       "    <tr>\n",
       "      <th>1281369</th>\n",
       "      <td>59847.0</td>\n",
       "      <td>for_sale</td>\n",
       "      <td>18000000.0</td>\n",
       "      <td>108.0</td>\n",
       "      <td>108.0</td>\n",
       "      <td>4.92</td>\n",
       "      <td>748125.0</td>\n",
       "      <td>San Diego</td>\n",
       "      <td>California</td>\n",
       "      <td>92154.0</td>\n",
       "      <td>65960.0</td>\n",
       "      <td>1989-12-29</td>\n",
       "    </tr>\n",
       "    <tr>\n",
       "      <th>1330664</th>\n",
       "      <td>61696.0</td>\n",
       "      <td>for_sale</td>\n",
       "      <td>24898000.0</td>\n",
       "      <td>111.0</td>\n",
       "      <td>2.0</td>\n",
       "      <td>1.54</td>\n",
       "      <td>1629747.0</td>\n",
       "      <td>San Jose</td>\n",
       "      <td>California</td>\n",
       "      <td>95112.0</td>\n",
       "      <td>40796.0</td>\n",
       "      <td>NaT</td>\n",
       "    </tr>\n",
       "    <tr>\n",
       "      <th>1370041</th>\n",
       "      <td>79047.0</td>\n",
       "      <td>for_sale</td>\n",
       "      <td>1695000.0</td>\n",
       "      <td>212.0</td>\n",
       "      <td>212.0</td>\n",
       "      <td>0.34</td>\n",
       "      <td>505076.0</td>\n",
       "      <td>Woodland</td>\n",
       "      <td>Washington</td>\n",
       "      <td>98674.0</td>\n",
       "      <td>5908.0</td>\n",
       "      <td>2019-12-16</td>\n",
       "    </tr>\n",
       "    <tr>\n",
       "      <th>1372303</th>\n",
       "      <td>50765.0</td>\n",
       "      <td>for_sale</td>\n",
       "      <td>9000000.0</td>\n",
       "      <td>108.0</td>\n",
       "      <td>50.0</td>\n",
       "      <td>0.26</td>\n",
       "      <td>176830.0</td>\n",
       "      <td>Keizer</td>\n",
       "      <td>Oregon</td>\n",
       "      <td>97303.0</td>\n",
       "      <td>48724.0</td>\n",
       "      <td>NaT</td>\n",
       "    </tr>\n",
       "    <tr>\n",
       "      <th>1378596</th>\n",
       "      <td>65903.0</td>\n",
       "      <td>for_sale</td>\n",
       "      <td>699000.0</td>\n",
       "      <td>222.0</td>\n",
       "      <td>830.0</td>\n",
       "      <td>0.34</td>\n",
       "      <td>541082.0</td>\n",
       "      <td>Dallas</td>\n",
       "      <td>Oregon</td>\n",
       "      <td>97338.0</td>\n",
       "      <td>1760.0</td>\n",
       "      <td>2006-04-10</td>\n",
       "    </tr>\n",
       "    <tr>\n",
       "      <th>1379204</th>\n",
       "      <td>54823.0</td>\n",
       "      <td>for_sale</td>\n",
       "      <td>440000.0</td>\n",
       "      <td>444.0</td>\n",
       "      <td>222.0</td>\n",
       "      <td>0.34</td>\n",
       "      <td>118525.0</td>\n",
       "      <td>Sublimity</td>\n",
       "      <td>Oregon</td>\n",
       "      <td>97385.0</td>\n",
       "      <td>1700.0</td>\n",
       "      <td>1990-08-15</td>\n",
       "    </tr>\n",
       "    <tr>\n",
       "      <th>1382122</th>\n",
       "      <td>53187.0</td>\n",
       "      <td>for_sale</td>\n",
       "      <td>549000.0</td>\n",
       "      <td>148.0</td>\n",
       "      <td>74.0</td>\n",
       "      <td>0.23</td>\n",
       "      <td>1394375.0</td>\n",
       "      <td>Springfield</td>\n",
       "      <td>Oregon</td>\n",
       "      <td>97478.0</td>\n",
       "      <td>3372.0</td>\n",
       "      <td>NaT</td>\n",
       "    </tr>\n",
       "    <tr>\n",
       "      <th>1876419</th>\n",
       "      <td>60817.0</td>\n",
       "      <td>sold</td>\n",
       "      <td>2499000.0</td>\n",
       "      <td>114.0</td>\n",
       "      <td>57.0</td>\n",
       "      <td>7.00</td>\n",
       "      <td>533184.0</td>\n",
       "      <td>Lawrenceville</td>\n",
       "      <td>Illinois</td>\n",
       "      <td>62439.0</td>\n",
       "      <td>1760.0</td>\n",
       "      <td>2021-12-27</td>\n",
       "    </tr>\n",
       "    <tr>\n",
       "      <th>1896520</th>\n",
       "      <td>52841.0</td>\n",
       "      <td>sold</td>\n",
       "      <td>7000000.0</td>\n",
       "      <td>120.0</td>\n",
       "      <td>2.0</td>\n",
       "      <td>4.66</td>\n",
       "      <td>1622291.0</td>\n",
       "      <td>Fayetteville</td>\n",
       "      <td>Arkansas</td>\n",
       "      <td>72701.0</td>\n",
       "      <td>44475.0</td>\n",
       "      <td>2021-12-17</td>\n",
       "    </tr>\n",
       "    <tr>\n",
       "      <th>2188928</th>\n",
       "      <td>54823.0</td>\n",
       "      <td>sold</td>\n",
       "      <td>430000.0</td>\n",
       "      <td>444.0</td>\n",
       "      <td>222.0</td>\n",
       "      <td>0.34</td>\n",
       "      <td>118525.0</td>\n",
       "      <td>Sublimity</td>\n",
       "      <td>Oregon</td>\n",
       "      <td>97385.0</td>\n",
       "      <td>1700.0</td>\n",
       "      <td>2022-04-29</td>\n",
       "    </tr>\n",
       "  </tbody>\n",
       "</table>\n",
       "</div>"
      ],
      "text/plain": [
       "         brokered_by    status       price    bed   bath  acre_lot     street  \\\n",
       "70245        34089.0  for_sale         NaN  123.0  123.0      0.26  1197898.0   \n",
       "156556       53224.0  for_sale   2100000.0  142.0    2.0      0.10  1587316.0   \n",
       "401858       25403.0  for_sale    575000.0  210.0    2.0      2.11   611259.0   \n",
       "583135       21069.0  for_sale    225000.0  473.0  157.0      0.26   975782.0   \n",
       "637336       25373.0  for_sale   2100000.0  110.0    2.0      2.29   715488.0   \n",
       "637798        8190.0  for_sale   5500000.0  136.0    2.0      4.71   999020.0   \n",
       "690428       10613.0  for_sale   1499000.0  102.0   99.0      0.50   575960.0   \n",
       "957227       28717.0  for_sale    189000.0  190.0  163.0      3.57   309021.0   \n",
       "1281369      59847.0  for_sale  18000000.0  108.0  108.0      4.92   748125.0   \n",
       "1330664      61696.0  for_sale  24898000.0  111.0    2.0      1.54  1629747.0   \n",
       "1370041      79047.0  for_sale   1695000.0  212.0  212.0      0.34   505076.0   \n",
       "1372303      50765.0  for_sale   9000000.0  108.0   50.0      0.26   176830.0   \n",
       "1378596      65903.0  for_sale    699000.0  222.0  830.0      0.34   541082.0   \n",
       "1379204      54823.0  for_sale    440000.0  444.0  222.0      0.34   118525.0   \n",
       "1382122      53187.0  for_sale    549000.0  148.0   74.0      0.23  1394375.0   \n",
       "1876419      60817.0      sold   2499000.0  114.0   57.0      7.00   533184.0   \n",
       "1896520      52841.0      sold   7000000.0  120.0    2.0      4.66  1622291.0   \n",
       "2188928      54823.0      sold    430000.0  444.0  222.0      0.34   118525.0   \n",
       "\n",
       "                  city       state  zip_code  house_size prev_sold_date  \n",
       "70245    New York City    New York   10471.0      1760.0     2012-06-29  \n",
       "156556       Rochester    New York   14609.0      1545.0            NaT  \n",
       "401858       Cleveland   Tennessee   37311.0      6026.0            NaT  \n",
       "583135           Brent     Alabama   35034.0      1760.0            NaT  \n",
       "637336         Memphis   Tennessee   38108.0     36250.0            NaT  \n",
       "637798         Memphis   Tennessee   38127.0      1760.0     2017-02-03  \n",
       "690428          Dayton        Ohio   45405.0      7773.0     2013-09-24  \n",
       "957227     New Orleans   Louisiana   70129.0    110350.0     2017-01-24  \n",
       "1281369      San Diego  California   92154.0     65960.0     1989-12-29  \n",
       "1330664       San Jose  California   95112.0     40796.0            NaT  \n",
       "1370041       Woodland  Washington   98674.0      5908.0     2019-12-16  \n",
       "1372303         Keizer      Oregon   97303.0     48724.0            NaT  \n",
       "1378596         Dallas      Oregon   97338.0      1760.0     2006-04-10  \n",
       "1379204      Sublimity      Oregon   97385.0      1700.0     1990-08-15  \n",
       "1382122    Springfield      Oregon   97478.0      3372.0            NaT  \n",
       "1876419  Lawrenceville    Illinois   62439.0      1760.0     2021-12-27  \n",
       "1896520   Fayetteville    Arkansas   72701.0     44475.0     2021-12-17  \n",
       "2188928      Sublimity      Oregon   97385.0      1700.0     2022-04-29  "
      ]
     },
     "execution_count": 19,
     "metadata": {},
     "output_type": "execute_result"
    }
   ],
   "source": [
    "df2[df2.bed > 100]"
   ]
  },
  {
   "cell_type": "code",
   "execution_count": 20,
   "id": "8c92da3f-5703-44f1-a258-9530780f6d1f",
   "metadata": {},
   "outputs": [],
   "source": [
    "sub_df = df2[(df2.bed > 100) & (df2.bath < 70) & (df2.acre_lot < 1.00)]"
   ]
  },
  {
   "cell_type": "code",
   "execution_count": 21,
   "id": "9982c8ae-b323-4c3d-8037-144ad1344cf3",
   "metadata": {},
   "outputs": [
    {
     "data": {
      "text/html": [
       "<div>\n",
       "<style scoped>\n",
       "    .dataframe tbody tr th:only-of-type {\n",
       "        vertical-align: middle;\n",
       "    }\n",
       "\n",
       "    .dataframe tbody tr th {\n",
       "        vertical-align: top;\n",
       "    }\n",
       "\n",
       "    .dataframe thead th {\n",
       "        text-align: right;\n",
       "    }\n",
       "</style>\n",
       "<table border=\"1\" class=\"dataframe\">\n",
       "  <thead>\n",
       "    <tr style=\"text-align: right;\">\n",
       "      <th></th>\n",
       "      <th>brokered_by</th>\n",
       "      <th>status</th>\n",
       "      <th>price</th>\n",
       "      <th>bed</th>\n",
       "      <th>bath</th>\n",
       "      <th>acre_lot</th>\n",
       "      <th>street</th>\n",
       "      <th>city</th>\n",
       "      <th>state</th>\n",
       "      <th>zip_code</th>\n",
       "      <th>house_size</th>\n",
       "      <th>prev_sold_date</th>\n",
       "    </tr>\n",
       "  </thead>\n",
       "  <tbody>\n",
       "    <tr>\n",
       "      <th>156556</th>\n",
       "      <td>53224.0</td>\n",
       "      <td>for_sale</td>\n",
       "      <td>2100000.0</td>\n",
       "      <td>142.0</td>\n",
       "      <td>2.0</td>\n",
       "      <td>0.10</td>\n",
       "      <td>1587316.0</td>\n",
       "      <td>Rochester</td>\n",
       "      <td>New York</td>\n",
       "      <td>14609.0</td>\n",
       "      <td>1545.0</td>\n",
       "      <td>NaT</td>\n",
       "    </tr>\n",
       "    <tr>\n",
       "      <th>1372303</th>\n",
       "      <td>50765.0</td>\n",
       "      <td>for_sale</td>\n",
       "      <td>9000000.0</td>\n",
       "      <td>108.0</td>\n",
       "      <td>50.0</td>\n",
       "      <td>0.26</td>\n",
       "      <td>176830.0</td>\n",
       "      <td>Keizer</td>\n",
       "      <td>Oregon</td>\n",
       "      <td>97303.0</td>\n",
       "      <td>48724.0</td>\n",
       "      <td>NaT</td>\n",
       "    </tr>\n",
       "  </tbody>\n",
       "</table>\n",
       "</div>"
      ],
      "text/plain": [
       "         brokered_by    status      price    bed  bath  acre_lot     street  \\\n",
       "156556       53224.0  for_sale  2100000.0  142.0   2.0      0.10  1587316.0   \n",
       "1372303      50765.0  for_sale  9000000.0  108.0  50.0      0.26   176830.0   \n",
       "\n",
       "              city     state  zip_code  house_size prev_sold_date  \n",
       "156556   Rochester  New York   14609.0      1545.0            NaT  \n",
       "1372303     Keizer    Oregon   97303.0     48724.0            NaT  "
      ]
     },
     "execution_count": 21,
     "metadata": {},
     "output_type": "execute_result"
    }
   ],
   "source": [
    "sub_df.head()"
   ]
  },
  {
   "cell_type": "code",
   "execution_count": 22,
   "id": "e6cb86fb-c4f4-4f65-895d-aa338e027b59",
   "metadata": {},
   "outputs": [],
   "source": [
    "df2.drop([70245, 401858, 583135, 690428, 1370041, 1378596, 1379204, 1382122, 2188928], axis = 0, inplace = True)"
   ]
  },
  {
   "cell_type": "code",
   "execution_count": 23,
   "id": "7a812138-b316-418d-adba-fbc300c1a18b",
   "metadata": {},
   "outputs": [
    {
     "data": {
      "text/html": [
       "<div>\n",
       "<style scoped>\n",
       "    .dataframe tbody tr th:only-of-type {\n",
       "        vertical-align: middle;\n",
       "    }\n",
       "\n",
       "    .dataframe tbody tr th {\n",
       "        vertical-align: top;\n",
       "    }\n",
       "\n",
       "    .dataframe thead th {\n",
       "        text-align: right;\n",
       "    }\n",
       "</style>\n",
       "<table border=\"1\" class=\"dataframe\">\n",
       "  <thead>\n",
       "    <tr style=\"text-align: right;\">\n",
       "      <th></th>\n",
       "      <th>brokered_by</th>\n",
       "      <th>status</th>\n",
       "      <th>price</th>\n",
       "      <th>bed</th>\n",
       "      <th>bath</th>\n",
       "      <th>acre_lot</th>\n",
       "      <th>street</th>\n",
       "      <th>city</th>\n",
       "      <th>state</th>\n",
       "      <th>zip_code</th>\n",
       "      <th>house_size</th>\n",
       "      <th>prev_sold_date</th>\n",
       "    </tr>\n",
       "  </thead>\n",
       "  <tbody>\n",
       "    <tr>\n",
       "      <th>156556</th>\n",
       "      <td>53224.0</td>\n",
       "      <td>for_sale</td>\n",
       "      <td>2100000.0</td>\n",
       "      <td>142.0</td>\n",
       "      <td>2.0</td>\n",
       "      <td>0.10</td>\n",
       "      <td>1587316.0</td>\n",
       "      <td>Rochester</td>\n",
       "      <td>New York</td>\n",
       "      <td>14609.0</td>\n",
       "      <td>1545.0</td>\n",
       "      <td>NaT</td>\n",
       "    </tr>\n",
       "    <tr>\n",
       "      <th>637336</th>\n",
       "      <td>25373.0</td>\n",
       "      <td>for_sale</td>\n",
       "      <td>2100000.0</td>\n",
       "      <td>110.0</td>\n",
       "      <td>2.0</td>\n",
       "      <td>2.29</td>\n",
       "      <td>715488.0</td>\n",
       "      <td>Memphis</td>\n",
       "      <td>Tennessee</td>\n",
       "      <td>38108.0</td>\n",
       "      <td>36250.0</td>\n",
       "      <td>NaT</td>\n",
       "    </tr>\n",
       "    <tr>\n",
       "      <th>637798</th>\n",
       "      <td>8190.0</td>\n",
       "      <td>for_sale</td>\n",
       "      <td>5500000.0</td>\n",
       "      <td>136.0</td>\n",
       "      <td>2.0</td>\n",
       "      <td>4.71</td>\n",
       "      <td>999020.0</td>\n",
       "      <td>Memphis</td>\n",
       "      <td>Tennessee</td>\n",
       "      <td>38127.0</td>\n",
       "      <td>1760.0</td>\n",
       "      <td>2017-02-03</td>\n",
       "    </tr>\n",
       "    <tr>\n",
       "      <th>957227</th>\n",
       "      <td>28717.0</td>\n",
       "      <td>for_sale</td>\n",
       "      <td>189000.0</td>\n",
       "      <td>190.0</td>\n",
       "      <td>163.0</td>\n",
       "      <td>3.57</td>\n",
       "      <td>309021.0</td>\n",
       "      <td>New Orleans</td>\n",
       "      <td>Louisiana</td>\n",
       "      <td>70129.0</td>\n",
       "      <td>110350.0</td>\n",
       "      <td>2017-01-24</td>\n",
       "    </tr>\n",
       "    <tr>\n",
       "      <th>1281369</th>\n",
       "      <td>59847.0</td>\n",
       "      <td>for_sale</td>\n",
       "      <td>18000000.0</td>\n",
       "      <td>108.0</td>\n",
       "      <td>108.0</td>\n",
       "      <td>4.92</td>\n",
       "      <td>748125.0</td>\n",
       "      <td>San Diego</td>\n",
       "      <td>California</td>\n",
       "      <td>92154.0</td>\n",
       "      <td>65960.0</td>\n",
       "      <td>1989-12-29</td>\n",
       "    </tr>\n",
       "    <tr>\n",
       "      <th>1330664</th>\n",
       "      <td>61696.0</td>\n",
       "      <td>for_sale</td>\n",
       "      <td>24898000.0</td>\n",
       "      <td>111.0</td>\n",
       "      <td>2.0</td>\n",
       "      <td>1.54</td>\n",
       "      <td>1629747.0</td>\n",
       "      <td>San Jose</td>\n",
       "      <td>California</td>\n",
       "      <td>95112.0</td>\n",
       "      <td>40796.0</td>\n",
       "      <td>NaT</td>\n",
       "    </tr>\n",
       "    <tr>\n",
       "      <th>1372303</th>\n",
       "      <td>50765.0</td>\n",
       "      <td>for_sale</td>\n",
       "      <td>9000000.0</td>\n",
       "      <td>108.0</td>\n",
       "      <td>50.0</td>\n",
       "      <td>0.26</td>\n",
       "      <td>176830.0</td>\n",
       "      <td>Keizer</td>\n",
       "      <td>Oregon</td>\n",
       "      <td>97303.0</td>\n",
       "      <td>48724.0</td>\n",
       "      <td>NaT</td>\n",
       "    </tr>\n",
       "    <tr>\n",
       "      <th>1876419</th>\n",
       "      <td>60817.0</td>\n",
       "      <td>sold</td>\n",
       "      <td>2499000.0</td>\n",
       "      <td>114.0</td>\n",
       "      <td>57.0</td>\n",
       "      <td>7.00</td>\n",
       "      <td>533184.0</td>\n",
       "      <td>Lawrenceville</td>\n",
       "      <td>Illinois</td>\n",
       "      <td>62439.0</td>\n",
       "      <td>1760.0</td>\n",
       "      <td>2021-12-27</td>\n",
       "    </tr>\n",
       "    <tr>\n",
       "      <th>1896520</th>\n",
       "      <td>52841.0</td>\n",
       "      <td>sold</td>\n",
       "      <td>7000000.0</td>\n",
       "      <td>120.0</td>\n",
       "      <td>2.0</td>\n",
       "      <td>4.66</td>\n",
       "      <td>1622291.0</td>\n",
       "      <td>Fayetteville</td>\n",
       "      <td>Arkansas</td>\n",
       "      <td>72701.0</td>\n",
       "      <td>44475.0</td>\n",
       "      <td>2021-12-17</td>\n",
       "    </tr>\n",
       "  </tbody>\n",
       "</table>\n",
       "</div>"
      ],
      "text/plain": [
       "         brokered_by    status       price    bed   bath  acre_lot     street  \\\n",
       "156556       53224.0  for_sale   2100000.0  142.0    2.0      0.10  1587316.0   \n",
       "637336       25373.0  for_sale   2100000.0  110.0    2.0      2.29   715488.0   \n",
       "637798        8190.0  for_sale   5500000.0  136.0    2.0      4.71   999020.0   \n",
       "957227       28717.0  for_sale    189000.0  190.0  163.0      3.57   309021.0   \n",
       "1281369      59847.0  for_sale  18000000.0  108.0  108.0      4.92   748125.0   \n",
       "1330664      61696.0  for_sale  24898000.0  111.0    2.0      1.54  1629747.0   \n",
       "1372303      50765.0  for_sale   9000000.0  108.0   50.0      0.26   176830.0   \n",
       "1876419      60817.0      sold   2499000.0  114.0   57.0      7.00   533184.0   \n",
       "1896520      52841.0      sold   7000000.0  120.0    2.0      4.66  1622291.0   \n",
       "\n",
       "                  city       state  zip_code  house_size prev_sold_date  \n",
       "156556       Rochester    New York   14609.0      1545.0            NaT  \n",
       "637336         Memphis   Tennessee   38108.0     36250.0            NaT  \n",
       "637798         Memphis   Tennessee   38127.0      1760.0     2017-02-03  \n",
       "957227     New Orleans   Louisiana   70129.0    110350.0     2017-01-24  \n",
       "1281369      San Diego  California   92154.0     65960.0     1989-12-29  \n",
       "1330664       San Jose  California   95112.0     40796.0            NaT  \n",
       "1372303         Keizer      Oregon   97303.0     48724.0            NaT  \n",
       "1876419  Lawrenceville    Illinois   62439.0      1760.0     2021-12-27  \n",
       "1896520   Fayetteville    Arkansas   72701.0     44475.0     2021-12-17  "
      ]
     },
     "execution_count": 23,
     "metadata": {},
     "output_type": "execute_result"
    }
   ],
   "source": [
    "df2[df2.bed > 100]"
   ]
  },
  {
   "cell_type": "code",
   "execution_count": 24,
   "id": "01612299-4f6a-4b3d-953a-ed606d2ad5d9",
   "metadata": {},
   "outputs": [
    {
     "data": {
      "text/plain": [
       "20098"
      ]
     },
     "execution_count": 24,
     "metadata": {},
     "output_type": "execute_result"
    }
   ],
   "source": [
    "len(df2.city.unique())"
   ]
  },
  {
   "cell_type": "code",
   "execution_count": 25,
   "id": "8afb765a-44ab-4907-b99d-ab0117fb40e3",
   "metadata": {},
   "outputs": [
    {
     "data": {
      "text/plain": [
       "55"
      ]
     },
     "execution_count": 25,
     "metadata": {},
     "output_type": "execute_result"
    }
   ],
   "source": [
    "len(df2.state.unique())"
   ]
  },
  {
   "cell_type": "code",
   "execution_count": 26,
   "id": "170a841a-795c-4a73-8226-174489c9baff",
   "metadata": {},
   "outputs": [],
   "source": [
    "df3 = df2.drop(['city'], axis = 1)"
   ]
  },
  {
   "cell_type": "code",
   "execution_count": 27,
   "id": "fd549b27-c649-47dd-a23a-cd4a84977284",
   "metadata": {},
   "outputs": [
    {
     "data": {
      "text/plain": [
       "0   2022-03-31\n",
       "Name: prev_sold_date, dtype: datetime64[ns]"
      ]
     },
     "execution_count": 27,
     "metadata": {},
     "output_type": "execute_result"
    }
   ],
   "source": [
    "df3.prev_sold_date.mode()"
   ]
  },
  {
   "cell_type": "code",
   "execution_count": 28,
   "id": "a28ee380-4d1c-4325-9661-60992a3ba17b",
   "metadata": {},
   "outputs": [],
   "source": [
    "df3.prev_sold_date = df3.prev_sold_date.fillna('2022-03-31')"
   ]
  },
  {
   "cell_type": "code",
   "execution_count": 29,
   "id": "2d5e86e6-836a-4574-b63e-70f4eb2cb73f",
   "metadata": {},
   "outputs": [
    {
     "data": {
      "text/plain": [
       "brokered_by        0\n",
       "status             0\n",
       "price             28\n",
       "bed                0\n",
       "bath               0\n",
       "acre_lot           0\n",
       "street             0\n",
       "state              0\n",
       "zip_code           0\n",
       "house_size         0\n",
       "prev_sold_date     0\n",
       "dtype: int64"
      ]
     },
     "execution_count": 29,
     "metadata": {},
     "output_type": "execute_result"
    }
   ],
   "source": [
    "df3.isnull().sum()"
   ]
  },
  {
   "cell_type": "code",
   "execution_count": 30,
   "id": "6e0db6e0-9742-43a0-af2c-30c172aaa17c",
   "metadata": {},
   "outputs": [],
   "source": [
    "df3.price = df3.price.fillna(df3.price.mean())"
   ]
  },
  {
   "cell_type": "code",
   "execution_count": 31,
   "id": "9d897752-5a73-47ac-b00e-e82dbf3f74ca",
   "metadata": {},
   "outputs": [
    {
     "data": {
      "text/plain": [
       "brokered_by       0\n",
       "status            0\n",
       "price             0\n",
       "bed               0\n",
       "bath              0\n",
       "acre_lot          0\n",
       "street            0\n",
       "state             0\n",
       "zip_code          0\n",
       "house_size        0\n",
       "prev_sold_date    0\n",
       "dtype: int64"
      ]
     },
     "execution_count": 31,
     "metadata": {},
     "output_type": "execute_result"
    }
   ],
   "source": [
    "df3.isnull().sum()"
   ]
  },
  {
   "cell_type": "code",
   "execution_count": 32,
   "id": "2233c2ae-6748-414a-917d-a6991bfdd657",
   "metadata": {},
   "outputs": [],
   "source": [
    "stat_dummies = pd.get_dummies(df.status).astype(int)\n",
    "ste_dummies = pd.get_dummies(df.state).astype(int)"
   ]
  },
  {
   "cell_type": "code",
   "execution_count": 33,
   "id": "61478670-42ba-4215-a5dc-f4d01747ee20",
   "metadata": {},
   "outputs": [],
   "source": [
    "df4 = pd.concat([df3, stat_dummies, ste_dummies], axis = 1)"
   ]
  },
  {
   "cell_type": "code",
   "execution_count": 34,
   "id": "f9aba28d-b20a-41a3-94e1-994f9abcd6ad",
   "metadata": {},
   "outputs": [
    {
     "data": {
      "text/html": [
       "<div>\n",
       "<style scoped>\n",
       "    .dataframe tbody tr th:only-of-type {\n",
       "        vertical-align: middle;\n",
       "    }\n",
       "\n",
       "    .dataframe tbody tr th {\n",
       "        vertical-align: top;\n",
       "    }\n",
       "\n",
       "    .dataframe thead th {\n",
       "        text-align: right;\n",
       "    }\n",
       "</style>\n",
       "<table border=\"1\" class=\"dataframe\">\n",
       "  <thead>\n",
       "    <tr style=\"text-align: right;\">\n",
       "      <th></th>\n",
       "      <th>brokered_by</th>\n",
       "      <th>status</th>\n",
       "      <th>price</th>\n",
       "      <th>bed</th>\n",
       "      <th>bath</th>\n",
       "      <th>acre_lot</th>\n",
       "      <th>street</th>\n",
       "      <th>state</th>\n",
       "      <th>zip_code</th>\n",
       "      <th>house_size</th>\n",
       "      <th>...</th>\n",
       "      <th>Tennessee</th>\n",
       "      <th>Texas</th>\n",
       "      <th>Utah</th>\n",
       "      <th>Vermont</th>\n",
       "      <th>Virgin Islands</th>\n",
       "      <th>Virginia</th>\n",
       "      <th>Washington</th>\n",
       "      <th>West Virginia</th>\n",
       "      <th>Wisconsin</th>\n",
       "      <th>Wyoming</th>\n",
       "    </tr>\n",
       "  </thead>\n",
       "  <tbody>\n",
       "    <tr>\n",
       "      <th>0</th>\n",
       "      <td>103378.0</td>\n",
       "      <td>for_sale</td>\n",
       "      <td>105000.0</td>\n",
       "      <td>3.0</td>\n",
       "      <td>2.0</td>\n",
       "      <td>0.12</td>\n",
       "      <td>1962661.0</td>\n",
       "      <td>Puerto Rico</td>\n",
       "      <td>601.0</td>\n",
       "      <td>920.0</td>\n",
       "      <td>...</td>\n",
       "      <td>0</td>\n",
       "      <td>0</td>\n",
       "      <td>0</td>\n",
       "      <td>0</td>\n",
       "      <td>0</td>\n",
       "      <td>0</td>\n",
       "      <td>0</td>\n",
       "      <td>0</td>\n",
       "      <td>0</td>\n",
       "      <td>0</td>\n",
       "    </tr>\n",
       "    <tr>\n",
       "      <th>1</th>\n",
       "      <td>52707.0</td>\n",
       "      <td>for_sale</td>\n",
       "      <td>80000.0</td>\n",
       "      <td>4.0</td>\n",
       "      <td>2.0</td>\n",
       "      <td>0.08</td>\n",
       "      <td>1902874.0</td>\n",
       "      <td>Puerto Rico</td>\n",
       "      <td>601.0</td>\n",
       "      <td>1527.0</td>\n",
       "      <td>...</td>\n",
       "      <td>0</td>\n",
       "      <td>0</td>\n",
       "      <td>0</td>\n",
       "      <td>0</td>\n",
       "      <td>0</td>\n",
       "      <td>0</td>\n",
       "      <td>0</td>\n",
       "      <td>0</td>\n",
       "      <td>0</td>\n",
       "      <td>0</td>\n",
       "    </tr>\n",
       "    <tr>\n",
       "      <th>2</th>\n",
       "      <td>103379.0</td>\n",
       "      <td>for_sale</td>\n",
       "      <td>67000.0</td>\n",
       "      <td>2.0</td>\n",
       "      <td>1.0</td>\n",
       "      <td>0.15</td>\n",
       "      <td>1404990.0</td>\n",
       "      <td>Puerto Rico</td>\n",
       "      <td>795.0</td>\n",
       "      <td>748.0</td>\n",
       "      <td>...</td>\n",
       "      <td>0</td>\n",
       "      <td>0</td>\n",
       "      <td>0</td>\n",
       "      <td>0</td>\n",
       "      <td>0</td>\n",
       "      <td>0</td>\n",
       "      <td>0</td>\n",
       "      <td>0</td>\n",
       "      <td>0</td>\n",
       "      <td>0</td>\n",
       "    </tr>\n",
       "    <tr>\n",
       "      <th>3</th>\n",
       "      <td>31239.0</td>\n",
       "      <td>for_sale</td>\n",
       "      <td>145000.0</td>\n",
       "      <td>4.0</td>\n",
       "      <td>2.0</td>\n",
       "      <td>0.10</td>\n",
       "      <td>1947675.0</td>\n",
       "      <td>Puerto Rico</td>\n",
       "      <td>731.0</td>\n",
       "      <td>1800.0</td>\n",
       "      <td>...</td>\n",
       "      <td>0</td>\n",
       "      <td>0</td>\n",
       "      <td>0</td>\n",
       "      <td>0</td>\n",
       "      <td>0</td>\n",
       "      <td>0</td>\n",
       "      <td>0</td>\n",
       "      <td>0</td>\n",
       "      <td>0</td>\n",
       "      <td>0</td>\n",
       "    </tr>\n",
       "    <tr>\n",
       "      <th>4</th>\n",
       "      <td>34632.0</td>\n",
       "      <td>for_sale</td>\n",
       "      <td>65000.0</td>\n",
       "      <td>6.0</td>\n",
       "      <td>2.0</td>\n",
       "      <td>0.05</td>\n",
       "      <td>331151.0</td>\n",
       "      <td>Puerto Rico</td>\n",
       "      <td>680.0</td>\n",
       "      <td>1760.0</td>\n",
       "      <td>...</td>\n",
       "      <td>0</td>\n",
       "      <td>0</td>\n",
       "      <td>0</td>\n",
       "      <td>0</td>\n",
       "      <td>0</td>\n",
       "      <td>0</td>\n",
       "      <td>0</td>\n",
       "      <td>0</td>\n",
       "      <td>0</td>\n",
       "      <td>0</td>\n",
       "    </tr>\n",
       "  </tbody>\n",
       "</table>\n",
       "<p>5 rows × 69 columns</p>\n",
       "</div>"
      ],
      "text/plain": [
       "   brokered_by    status     price  bed  bath  acre_lot     street  \\\n",
       "0     103378.0  for_sale  105000.0  3.0   2.0      0.12  1962661.0   \n",
       "1      52707.0  for_sale   80000.0  4.0   2.0      0.08  1902874.0   \n",
       "2     103379.0  for_sale   67000.0  2.0   1.0      0.15  1404990.0   \n",
       "3      31239.0  for_sale  145000.0  4.0   2.0      0.10  1947675.0   \n",
       "4      34632.0  for_sale   65000.0  6.0   2.0      0.05   331151.0   \n",
       "\n",
       "         state  zip_code  house_size  ... Tennessee  Texas  Utah  Vermont  \\\n",
       "0  Puerto Rico     601.0       920.0  ...         0      0     0        0   \n",
       "1  Puerto Rico     601.0      1527.0  ...         0      0     0        0   \n",
       "2  Puerto Rico     795.0       748.0  ...         0      0     0        0   \n",
       "3  Puerto Rico     731.0      1800.0  ...         0      0     0        0   \n",
       "4  Puerto Rico     680.0      1760.0  ...         0      0     0        0   \n",
       "\n",
       "   Virgin Islands  Virginia  Washington  West Virginia  Wisconsin  Wyoming  \n",
       "0               0         0           0              0          0        0  \n",
       "1               0         0           0              0          0        0  \n",
       "2               0         0           0              0          0        0  \n",
       "3               0         0           0              0          0        0  \n",
       "4               0         0           0              0          0        0  \n",
       "\n",
       "[5 rows x 69 columns]"
      ]
     },
     "execution_count": 34,
     "metadata": {},
     "output_type": "execute_result"
    }
   ],
   "source": [
    "df4.head()"
   ]
  },
  {
   "cell_type": "code",
   "execution_count": 35,
   "id": "2282db10-275d-4041-bb7f-eb61f5a82326",
   "metadata": {},
   "outputs": [
    {
     "data": {
      "text/plain": [
       "array(['for_sale', 'ready_to_build', 'sold', nan], dtype=object)"
      ]
     },
     "execution_count": 35,
     "metadata": {},
     "output_type": "execute_result"
    }
   ],
   "source": [
    "df4.status.unique()"
   ]
  },
  {
   "cell_type": "code",
   "execution_count": 36,
   "id": "3c902702-a80e-4c2b-9fd0-cb94855dd7c5",
   "metadata": {},
   "outputs": [],
   "source": [
    "df4.price.fillna(df4.price.mean())\n",
    "df4.prev_sold_date = df4.prev_sold_date.dt.year"
   ]
  },
  {
   "cell_type": "code",
   "execution_count": 37,
   "id": "e68b3d29-6e72-488b-a1a4-a4cdc86d8917",
   "metadata": {},
   "outputs": [],
   "source": [
    "df4.dropna(inplace = True)"
   ]
  },
  {
   "cell_type": "code",
   "execution_count": 38,
   "id": "039fed60-f2f0-4253-9a05-2565eec39919",
   "metadata": {},
   "outputs": [
    {
     "data": {
      "text/plain": [
       "brokered_by      0\n",
       "status           0\n",
       "price            0\n",
       "bed              0\n",
       "bath             0\n",
       "                ..\n",
       "Virginia         0\n",
       "Washington       0\n",
       "West Virginia    0\n",
       "Wisconsin        0\n",
       "Wyoming          0\n",
       "Length: 69, dtype: int64"
      ]
     },
     "execution_count": 38,
     "metadata": {},
     "output_type": "execute_result"
    }
   ],
   "source": [
    "df4.isnull().sum()"
   ]
  },
  {
   "cell_type": "code",
   "execution_count": 39,
   "id": "eba29c8c-7c89-4a66-a3aa-5d0c042da864",
   "metadata": {},
   "outputs": [],
   "source": [
    "df4.drop(['sold', 'Utah', 'status', 'state'], axis = 1, inplace = True)"
   ]
  },
  {
   "cell_type": "code",
   "execution_count": 40,
   "id": "f245eada-3602-47d5-aac4-b0594129e5bd",
   "metadata": {},
   "outputs": [],
   "source": [
    "from sklearn.model_selection import train_test_split\n",
    "X = df4.drop(['price'], axis = 1)\n",
    "Y = df4.price\n",
    "\n",
    "X_train, X_test, Y_train, Y_test = train_test_split(X, Y)"
   ]
  },
  {
   "cell_type": "code",
   "execution_count": 41,
   "id": "2b4c1a19-ae2c-453b-9315-5dde223c8a8d",
   "metadata": {},
   "outputs": [],
   "source": [
    "from sklearn.linear_model import LinearRegression\n",
    "from sklearn.linear_model import LogisticRegression\n",
    "from sklearn import tree\n",
    "from sklearn.svm import SVC\n",
    "from sklearn.ensemble import RandomForestClassifier\n",
    "from sklearn.cluster import KMeans\n",
    "from sklearn.neighbors import KNeighborsClassifier\n",
    "from sklearn.preprocessing import StandardScaler"
   ]
  },
  {
   "cell_type": "code",
   "execution_count": 42,
   "id": "f3970ee9-11cd-40af-8576-5ee92cb080b1",
   "metadata": {},
   "outputs": [],
   "source": [
    "from sklearn.model_selection import cross_val_score\n",
    "scale = StandardScaler()\n",
    "X_scaled = scale.fit_transform(X)"
   ]
  },
  {
   "cell_type": "code",
   "execution_count": 43,
   "id": "2cd61025-12a4-4e84-beb9-3a8151d274c9",
   "metadata": {},
   "outputs": [
    {
     "data": {
      "text/plain": [
       "array([ 0.15955811,  0.05063588, -1.53041178,  0.14095516,  0.26506093])"
      ]
     },
     "execution_count": 43,
     "metadata": {},
     "output_type": "execute_result"
    }
   ],
   "source": [
    "cross_val_score(LinearRegression(), X, Y)"
   ]
  },
  {
   "cell_type": "code",
   "execution_count": 44,
   "id": "a7678aea-5b16-494a-9194-c1e5b8dec337",
   "metadata": {},
   "outputs": [],
   "source": [
    "Y_class = pd.cut(Y, bins=2, labels=[0, 1])"
   ]
  },
  {
   "cell_type": "code",
   "execution_count": 45,
   "id": "7cd8490c-f01f-4ac7-8586-bdb98f8e5ac7",
   "metadata": {},
   "outputs": [
    {
     "data": {
      "text/plain": [
       "array([0.99994385, 0.99994161, 0.99993487, 0.99968783, 0.99994835])"
      ]
     },
     "execution_count": 45,
     "metadata": {},
     "output_type": "execute_result"
    }
   ],
   "source": [
    "cross_val_score(LogisticRegression(max_iter = 500), X_scaled, Y_class)"
   ]
  },
  {
   "cell_type": "code",
   "execution_count": 47,
   "id": "6426e3ef-ee1f-4ffa-be2c-bb84bc18624d",
   "metadata": {},
   "outputs": [
    {
     "data": {
      "text/plain": [
       "array([0.84302061, 0.9999461 , 0.99786649, 0.99974622, 0.99994161])"
      ]
     },
     "execution_count": 47,
     "metadata": {},
     "output_type": "execute_result"
    }
   ],
   "source": [
    "cross_val_score(tree.DecisionTreeClassifier(), X_scaled, Y_class)"
   ]
  },
  {
   "cell_type": "code",
   "execution_count": null,
   "id": "eb02f17f-0f06-4f32-8d7b-4346d48d9e8b",
   "metadata": {},
   "outputs": [],
   "source": [
    "cross_val_score(SVC(), X_scaled, Y_class)"
   ]
  },
  {
   "cell_type": "code",
   "execution_count": null,
   "id": "a813e286-54d1-4e13-9561-97719aeabdb8",
   "metadata": {},
   "outputs": [],
   "source": [
    "cross_val_score(RandomForestClassifier(), X, Y)"
   ]
  },
  {
   "cell_type": "code",
   "execution_count": null,
   "id": "fc2b3937-6c58-4be3-9c98-addb5d6a6a96",
   "metadata": {},
   "outputs": [],
   "source": [
    "cross_val_score(KMeans(), X, Y)"
   ]
  },
  {
   "cell_type": "code",
   "execution_count": null,
   "id": "a2f0d330-51bb-49c9-8a2f-3c982bfcbaa8",
   "metadata": {},
   "outputs": [],
   "source": [
    "cross_val_score(KNeighborsClassifier(), X, Y)"
   ]
  }
 ],
 "metadata": {
  "kernelspec": {
   "display_name": "Python 3 (ipykernel)",
   "language": "python",
   "name": "python3"
  },
  "language_info": {
   "codemirror_mode": {
    "name": "ipython",
    "version": 3
   },
   "file_extension": ".py",
   "mimetype": "text/x-python",
   "name": "python",
   "nbconvert_exporter": "python",
   "pygments_lexer": "ipython3",
   "version": "3.12.3"
  }
 },
 "nbformat": 4,
 "nbformat_minor": 5
}
